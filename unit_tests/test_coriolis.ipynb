{
 "cells": [
  {
   "cell_type": "code",
   "execution_count": 26,
   "metadata": {},
   "outputs": [
    {
     "ename": "AssertionError",
     "evalue": "Expect f to be same sign as latitude",
     "output_type": "error",
     "traceback": [
      "\u001b[0;31m---------------------------------------------------------------------------\u001b[0m",
      "\u001b[0;31mAssertionError\u001b[0m                            Traceback (most recent call last)",
      "Cell \u001b[0;32mIn[26], line 19\u001b[0m\n\u001b[1;32m     17\u001b[0m lat\u001b[38;5;241m=\u001b[39m\u001b[38;5;241m35\u001b[39m\n\u001b[1;32m     18\u001b[0m f\u001b[38;5;241m=\u001b[39mcoriolis_parameter(lat)\n\u001b[0;32m---> 19\u001b[0m \u001b[38;5;28;01massert\u001b[39;00m f \u001b[38;5;241m<\u001b[39m \u001b[38;5;241m0\u001b[39m \u001b[38;5;28;01mif\u001b[39;00m lat\u001b[38;5;241m>\u001b[39m\u001b[38;5;241m0\u001b[39m \u001b[38;5;28;01melse\u001b[39;00m f\u001b[38;5;241m>\u001b[39m\u001b[38;5;241m0\u001b[39m, \u001b[38;5;124m\"\u001b[39m\u001b[38;5;124mExpect f to be same sign as latitude\u001b[39m\u001b[38;5;124m\"\u001b[39m\n\u001b[1;32m     21\u001b[0m lat\u001b[38;5;241m=\u001b[39m\u001b[38;5;241m350\u001b[39m\n\u001b[1;32m     22\u001b[0m f\u001b[38;5;241m=\u001b[39mcoriolis_parameter(lat)\n",
      "\u001b[0;31mAssertionError\u001b[0m: Expect f to be same sign as latitude"
     ]
    }
   ],
   "source": [
    "import pytest\n",
    "import numpy as np\n",
    "\n",
    "# import module\n",
    "import sys\n",
    "import os\n",
    "\n",
    "parent_dir = os.path.dirname('../')\n",
    "sys.path.append(parent_dir)\n",
    "\n",
    "from ocean_tools import coriolis_parameter\n",
    "\n",
    "lat=-35\n",
    "f=coriolis_parameter(lat)\n",
    "assert f==-8.908980806927495e-05\n",
    "\n",
    "lat=35\n",
    "f=coriolis_parameter(lat)\n",
    "assert f < 0 if lat>0 else f>0, \"Expect f to be same sign as latitude\"\n",
    "\n",
    "lat=350\n",
    "f=coriolis_parameter(lat)\n",
    "assert (lat >= -90) & (lat<=90),  \"Latitude is not physical\"\n",
    "\n",
    "\n"
   ]
  },
  {
   "cell_type": "code",
   "execution_count": null,
   "metadata": {},
   "outputs": [],
   "source": []
  }
 ],
 "metadata": {
  "kernelspec": {
   "display_name": "mix",
   "language": "python",
   "name": "python3"
  },
  "language_info": {
   "codemirror_mode": {
    "name": "ipython",
    "version": 3
   },
   "file_extension": ".py",
   "mimetype": "text/x-python",
   "name": "python",
   "nbconvert_exporter": "python",
   "pygments_lexer": "ipython3",
   "version": "3.11.6"
  }
 },
 "nbformat": 4,
 "nbformat_minor": 2
}
